{
 "cells": [
  {
   "cell_type": "code",
   "execution_count": 1,
   "metadata": {},
   "outputs": [
    {
     "name": "stdout",
     "output_type": "stream",
     "text": [
      "  0%|          | 0/5 [00:00<?, ?it/s]"
     ]
    },
    {
     "name": "stderr",
     "output_type": "stream",
     "text": [
      "2025/01/09 04:33:09 WARNING dspy.utils.parallelizer: Received SIGINT. Cancelling execution.\n"
     ]
    }
   ],
   "source": [
    "import time\n",
    "\n",
    "from dspy.utils.parallelizer import ParallelExecutor\n",
    "\n",
    "data = [0, 1, \"boom\", 3, 4]\n",
    "\n",
    "def failing_func(x):\n",
    "    time.sleep(42)\n",
    "    if x == \"boom\":\n",
    "        raise ValueError(\"Simulated error!\")\n",
    "    return x\n",
    "\n",
    "executor = ParallelExecutor(\n",
    "    num_threads=2,\n",
    "    max_errors=1,  # Immediately cancel after the first error\n",
    "    provide_traceback=True,\n",
    ")\n",
    "\n",
    "executor.execute(failing_func, data)\n"
   ]
  },
  {
   "cell_type": "code",
   "execution_count": null,
   "metadata": {},
   "outputs": [],
   "source": []
  }
 ],
 "metadata": {
  "kernelspec": {
   "display_name": ".venv",
   "language": "python",
   "name": "python3"
  },
  "language_info": {
   "codemirror_mode": {
    "name": "ipython",
    "version": 3
   },
   "file_extension": ".py",
   "mimetype": "text/x-python",
   "name": "python",
   "nbconvert_exporter": "python",
   "pygments_lexer": "ipython3",
   "version": "3.9.18"
  }
 },
 "nbformat": 4,
 "nbformat_minor": 2
}
